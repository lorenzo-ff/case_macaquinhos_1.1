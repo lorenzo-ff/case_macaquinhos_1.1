{
 "cells": [
  {
   "attachments": {},
   "cell_type": "markdown",
   "metadata": {},
   "source": [
    "# <font color=blue|blue|red>Case dos Macaquinhos </font>\n",
    "## <font color=blue|blue|red>FinQuant - FEA.dev</font>\n",
    "### <font color=blue|blue|red>Versão 1.1</font>\n",
    "\n",
    "<p align='center'>\n",
    "    <img src='https://www.icr.org/i/articles/af/monkey_biz_chimp_wide.jpg'>\n",
    "</p>\n",
    "\n",
    "Como funciona o Case dos Macaquinhos?\n",
    "\n",
    "Temos, na **1a parte**, uma boa mistura de programação e finanças básicas, com um pézinho na gestão de portfólio, um dos cernes de finquant.\n",
    "Nessa parte, nós temos 2 objetivos: 1) Introduzir você ao mundo de finanças quantitativas, ao **aprender habilidades básicas**; 2) Fazer você **descobrir se de fato se interessa** ou tem afinidade com o assunto.     \n",
    "Não se assuste com os enunciados grandes! Eles procuram ser explicativos, mas se preferir, fique à vontade para pular para os exercícios e pesquisar tudo por conta.\n",
    "\n",
    "Já a **2a parte** aborda tópicos um pouco mais avançados, desenvolvendo diferentes técnicas e aplicações relacionadas às finanças quantitativas (essa parte aqui é só pros nerds). \n",
    "\n",
    "__Versão 1.0__: <>\n",
    "\n",
    "__Versão 1.1__:\n",
    "Com mudanças nas dinâmicas dos grupos de estudos e dos processos seletivos, e buscando melhor proveito de vosso tempo, decidimos fazer algumas mudanças! Na versão 1.0, haviam dois exercícios que foram retirados, um de _séries de tempo_, que não tinha tanta afinidade com esse case, e um de _machine learning_, tópico de extrema importância mas preferível que se aprenda a parte, e não aqui (ao menos por enquanto).      \n",
    "Nas questões que ficaram, foi feito um refinamento, tornando cada questão mais completa e equilibrada; os _desafios_ no final de algumas delas são um exemplo disso. Alguns textos, imagens e links também foram editados.\n",
    "\n",
    "__Versão 1.2__: Em breve!   \n",
    "Ideias: desenvolver o desafio da questão 8 em questões próprias (modelos de Monte Carlo, Binomial e Black-Scholes -- especialmente este último); refinar mais a questão 9 (algotrading); acrescentar mais informações e links para pesquisa específicas de finanças ao longo do case.\n",
    "\n",
    "---\n",
    "Neste notebook você praticará técnicas que serão necessárias para desenvolver uma estratégia quantitativa de investimentos. São elas:\n",
    "\n",
    "**Parte 1** \n",
    "1. Obtenção de dados financeiros\n",
    "2. Visualização de dados financeiros\n",
    "3. Retornos\n",
    "4. Volatilidade\n",
    "5. Estatísticas\n",
    "6. Portfólio de investimento\n",
    "\n",
    "**Parte 2** \n",
    "\n",
    "7. Gestão de Risco \n",
    "8. Processos estocásticos\n",
    "9. Algotrading\n",
    "\n",
    "----\n",
    "## Materiais de apoio:\n",
    "1. [Coursera: Introduction to Portfolio Construction and Analysis with Python ](https://www.coursera.org/programs/universidade-de-sao-paulo-br-on-coursera-mvxtw?currentTab=MY_COURSES&productId=qeyXSV_uEeiNIQqyU-T6bA&productType=course&showMiniModal=true) \n",
    "\n",
    "    - Semanas 1 e 2 \n",
    "\n",
    "2. [Playlist de Finanças Quantitativas do FEA.dev ](https://www.youtube.com/playlist?list=PLiJqHBsOKi2cabSus1hgdSNAHeU0md6_D)\n",
    "\n",
    "3. [Extração de dados do Banco Central de forma simplificada ](https://medium.com/fea-dev/extra%C3%A7%C3%A3o-de-dados-do-banco-central-de-forma-simplificada-7b946069c03e)\n",
    "\n",
    "\n",
    "4. Livros: \n",
    "    \n",
    "    * _Python for Finance: Analyze Big Financial Data (segunda edição)_ (especialmente o capítulo 12)\n",
    "\n",
    "\n",
    "5. Cursos do DataCamp: \n",
    "   \n",
    "    - [Introduction to Portfolio Analysis in Python](https://app.datacamp.com/learn/courses/introduction-to-portfolio-analysis-in-python)\n",
    "    - [Introduction to Portfolio Risk Management in Python ](https://learn.datacamp.com/courses/introduction-to-portfolio-risk-management-in-python)\n",
    "    - [Quantitative Risk Management in Python ](https://learn.datacamp.com/courses/quantitative-risk-management-in-python)\n",
    "    - [Financial Trading in Python](https://app.datacamp.com/learn/courses/financial-trading-in-python)\n",
    "\n",
    "6. Extras (**Não são necessários**, apenas para motivá-los)\n",
    "    - [What is Quant Finance ](https://www.youtube.com/watch?v=l7imVaK0MIQ)\n",
    "    - [What is a Quant Trader? | Systematic Investing | What is a Quant Hedge Fund? | Trading Ideas](https://www.youtube.com/watch?v=EBZVtDZw9ug)\n",
    "    - [The Story of James Simons - Renaissance Technologies & Medallion Fund ](https://www.youtube.com/watch?v=xkbdZb0UPac&pp=ugMICgJwdBABGAE%3D)\n",
    "    - [Quants Os Alquimistas de Wall Street ](https://www.youtube.com/watch?v=ed2FWNWwE3I)\n",
    "    - [Nossa planilha de recomendações (blogs, sites, canais do youtube) ](https://docs.google.com/spreadsheets/d/12YnAl8Tmd5fTDUL__3dEKsnQ1G28yKNaOLRt3Hq3aZs/edit#gid=0)\n",
    "    - [What is Quantitative Finance? ](https://medium.com/swlh/what-is-quantitative-finance-193ee8788ed4#:~:text=It%20is%20a%20field%20of,trading%2C%20and%20predicting%20market%20moves)\n",
    "    \n",
    "    - Blog da Giant Steps\n",
    "        - [O que são fundos quantitativos?](https://gscap.com.br/o-que-e-um-fundo-quantitativo/)\n",
    "        - [Evolução do Mercado de Gestão Quantitativa no Brasil](https://gscap.com.br/evolucao-do-mercado-de-gestao-quantitativa-brasileiro/)\n",
    "        - [Como combinar ativos de risco e criar um portfólio conservador](https://gscap.com.br/como-combinar-2-ativos-de-risco-e-deixar-uma-carteira-de-investimentos-mais-conservadora/)\n",
    "        - [O que é um algoritmo de investimento?](https://gscap.com.br/o-que-e-um-algoritmo-de-investimento/)\n",
    "        - [Tipos de algoritmos – Parte I: Algoritmos de Estratégia](https://gscap.com.br/tipos-de-algoritmos-parte-1-algoritmos-de-estrategia/)\n",
    "        - [Tipos de Algoritmo – Parte II : A Orquestra](https://gscap.com.br/tipos-de-algoritmo-parte-ii-a-orquestra/)\n",
    "\n",
    "\n"
   ]
  },
  {
   "attachments": {},
   "cell_type": "markdown",
   "metadata": {},
   "source": [
    "----"
   ]
  },
  {
   "attachments": {},
   "cell_type": "markdown",
   "metadata": {},
   "source": [
    "## 0) Import de bibliotecas básicas"
   ]
  },
  {
   "cell_type": "code",
   "execution_count": null,
   "metadata": {},
   "outputs": [],
   "source": []
  },
  {
   "attachments": {},
   "cell_type": "markdown",
   "metadata": {},
   "source": [
    "## 1) Obter dados financeiros\n",
    "\n",
    "Para acessar dados históricos de ativos, podemos utilizar diferentes APIs¹ com suporte ao python. Geralmente, elas nos retornam datasets no formato OHLCV (open-high-low-close-volume). Se atente para a exstência de colunas como 'split' ou 'adjustment close', pois será por meio dessas informações que realizamos backtest, já que uma ação pode ter historicamente distribuído dividendos ou sofrido inplits/splits.\n",
    "\n",
    "São alguns meios que você pode utilizar²:\n",
    "- __Yahoo Finance__ (o mais recomendado para esse case)\n",
    "- Alpha Vantage\n",
    "- Investpy (do site investing.com)\n",
    "- Quandl\n",
    "- Pandas Data Reader: é uma biblioteca que permite a criação de Dataframes utilizando diferentes fontes de dados da internet, saiba que ela possui integração com algumas APIs de dados financeiros.\n",
    "\n",
    "Pesquise sobre o funcionamento delas, como instalar (se atente aos requerimentos, caso haja conflito com seu ambiente padrão, crie um outro documento para extrair os dados), e se essas fontes estão ativas no momento³\n",
    "\n",
    "Observações:\n",
    "\n",
    "1: API significa Application Programming Interface (Interface de Programação de Aplicação), são canais de trocas de informações entre sistemas. Nesse caso, são fornecidos dados financeiros de um sistema (servidor) para o seu computador\n",
    "\n",
    "2: Ações listadas na B3 geralmente são identificadas por essas APIs pelo sufixo \".SAO\" ou \".SA\". Exemplo \"PETR4.SAO\"\n",
    "\n",
    "3: Essa parte pode dar muita dor de cabeça, principalmente na forma como você organiza e agrupa os dados\n",
    "\n",
    "\n",
    "\n",
    "<img src=\"https://i.makeagif.com/media/3-24-2016/JrSj8G.gif\"></img>"
   ]
  },
  {
   "cell_type": "markdown",
   "metadata": {},
   "source": [
    "### _Considere as datas entre: \"01/01/2018\" e \"31/12/2022\"_"
   ]
  },
  {
   "attachments": {},
   "cell_type": "markdown",
   "metadata": {},
   "source": [
    "### __a)__ Obtenha os dados diários das ações da Vale (VALE3)\n"
   ]
  },
  {
   "cell_type": "code",
   "execution_count": null,
   "metadata": {},
   "outputs": [],
   "source": []
  },
  {
   "attachments": {},
   "cell_type": "markdown",
   "metadata": {},
   "source": [
    "### __b)__ Obtenha dados diários de um conjunto de 10 ações (Vale, Petrobras, Klabin, Magazine Luiza, Minerva, Itaú, Bradesco, B3, Via Varejo, Ambev); agrupe-as da forma que preferir\n",
    "\n",
    "obs: pode ser que ocorra um erro devido a quantidade de \"chamadas que você faz\", tente resolver"
   ]
  },
  {
   "cell_type": "code",
   "execution_count": null,
   "metadata": {},
   "outputs": [],
   "source": []
  },
  {
   "cell_type": "markdown",
   "metadata": {},
   "source": [
    "### __c)__ Escolha 5 ações e filtre para obter um dataframe apenas com o _preço de fechamento ajustado_"
   ]
  },
  {
   "cell_type": "code",
   "execution_count": null,
   "metadata": {},
   "outputs": [],
   "source": []
  },
  {
   "attachments": {},
   "cell_type": "markdown",
   "metadata": {},
   "source": [
    "----"
   ]
  },
  {
   "attachments": {},
   "cell_type": "markdown",
   "metadata": {},
   "source": [
    "## 2) Visualização de dados financeiros\n",
    "\n",
    "<img src='https://i.kym-cdn.com/photos/images/original/002/073/269/599' width=\"500\">\n"
   ]
  },
  {
   "cell_type": "markdown",
   "metadata": {},
   "source": [
    "### __a)__ Faça um único gráfico contendo a série temporal do preço de fechamento ajustado de cada uma das 5 ações que você escolheu no item anterior. \n",
    "Assegure que cada linha corresponde a uma ação e que as linhas estejam legendadas."
   ]
  },
  {
   "cell_type": "code",
   "execution_count": null,
   "metadata": {},
   "outputs": [],
   "source": []
  },
  {
   "attachments": {},
   "cell_type": "markdown",
   "metadata": {},
   "source": [
    "### __b)__ Escolha _uma_ das 5 ações e faça um gráfico contendo a média móvel dos últimos 20 dias do preço de fechamento, mais as _bandas de Bollinger_ (dois desvios para cima e dois desvios para baixo). O que a média móvel representa e porque usar as bandas de Bollinger?\n",
    "\n",
    "obs: caso não saiba sobre as \"Bandas de Bollinger\", acesse o link https://www.investopedia.com/terms/b/bollingerbands.asp   \n",
    "Recomenda-se que as resposas escritas estejam em comentários de código python (# resposta) numa célula à parte"
   ]
  },
  {
   "cell_type": "code",
   "execution_count": null,
   "metadata": {},
   "outputs": [],
   "source": []
  },
  {
   "attachments": {},
   "cell_type": "markdown",
   "metadata": {},
   "source": [
    "### __c)__ Faça um único gráfico contendo o preço de fechamento da ação escolhida e seu _Volume_ (negociado no dia).\n"
   ]
  },
  {
   "cell_type": "code",
   "execution_count": null,
   "metadata": {},
   "outputs": [],
   "source": []
  },
  {
   "attachments": {},
   "cell_type": "markdown",
   "metadata": {},
   "source": [
    "### __d)__ Faça um gráfico de dispersão (do preço de fechamento ajustado) entre o ativo escolhido anteriormente e outro de sua escolha. Qual sua interpretação?"
   ]
  },
  {
   "cell_type": "code",
   "execution_count": null,
   "metadata": {},
   "outputs": [],
   "source": []
  },
  {
   "cell_type": "markdown",
   "metadata": {},
   "source": [
    "### __Desafio:__ Faça um gráfico candle stick da ação escolhida."
   ]
  },
  {
   "cell_type": "code",
   "execution_count": null,
   "metadata": {},
   "outputs": [],
   "source": []
  },
  {
   "attachments": {},
   "cell_type": "markdown",
   "metadata": {},
   "source": [
    "----"
   ]
  },
  {
   "attachments": {},
   "cell_type": "markdown",
   "metadata": {},
   "source": [
    "## 3) Retornos\n",
    "<img src='https://thumbs.gfycat.com/HiddenHopefulDuckbillplatypus-size_restricted.gif'>\n",
    "<img src='https://media.licdn.com/dms/image/D5612AQFYw3Suibi82Q/article-cover_image-shrink_720_1280/0/1703077466814?e=2147483647&v=beta&t=d0-cAV_M1d842HqBLqhDelSEcO_8MXr9jLkZaYiI-2w' width=\"400\">"
   ]
  },
  {
   "attachments": {},
   "cell_type": "markdown",
   "metadata": {},
   "source": [
    "\n",
    "### **Retornos Discretos**\n",
    "\n",
    "Há diferentes maneiras que o retorno pode ser representado.\n",
    "\n",
    "__a) Retornos Brutos (_Gross Returns_)__\n",
    "\n",
    "$R_{t+1}= \\frac{P_{t+1}}{P_t}$\n",
    "\n",
    "* ${P_t}$ : preço do ativo no início do período\n",
    "* $P_{t+1}$ : preço do ativo no final do período\n",
    "* $t$: período inicial\n",
    "\n",
    "obs1: a notação do período pode mudar, em alguns materiais a fórmula o representa por  $\\frac{P_{t}}{P_t-1}$ . O princípio é o mesmo, posterior no numerador e anterior no denominador\n",
    "\n",
    "obs2:  Caso seja um ativo que pague dividendo, a fórmula será a seguinte:\n",
    "\n",
    "$R_{t+1}= \\frac{P_{t+1} + D_{t+1}}{P_t}$\n",
    "\n",
    "obs3:  Essa fórmula assume que o preço do ativo pode ser medido, o que nem sempre é verdade, dado o caso de ativos ilíquidos (isso não será importante para o case e talvez não muito importante para o andar de seus estudos, apenas saiba disso) \n",
    "\n",
    "O Retorno Acumulado pode ser calculado pelo produto de uma série de retornos brutos, por exemplo:\n",
    "\n",
    "$Rcum_{t+3} = R_{t+1} + R_{t+2} + R_{t+3}$\n",
    "\n",
    "\n",
    "\n",
    "\n",
    "__b) Retornos Aritméticos (_Arithmetic Returns_) ou retornos simples (_“simple returns“_) ou retornos líquidos__\n",
    "\n",
    "$r_{t+1}= R_{t+1} - 1$\n",
    "\n",
    "* $r_{t+1}$ : retorno aritmético\n",
    "* $ R_{t+1}$: retorno bruto\n",
    "\n",
    "Nesse caso, o retorno acumulativo é calculado, por exemplo: \n",
    "\n",
    "$Rcum_{t+3} = (1-r_{t+1})*(1-r_{t+2})*(1-r_{t+3})$\n",
    "\n",
    "Não há a propriedade aditiva entre os retornos  \n",
    "$(1-r_{t+1})(1-r_{t+2})(1-r_{t+3})$ ≠ $1 + (r_{t+1}) (r_{t+2}) (r_{t+3})$\n",
    "\n",
    "No entanto há propriedade aditiva entre ativos quando calculamos o retorno de um portfólio (veremos mais para frente). Como exemplo, em um portfólio com ativos igualmente balanceados __A__ e __B__, seu retorno será dado por\n",
    "\n",
    "$r^{p}_{t+1} = 0.5r^{A}_{t+1} + 0.5r^{B}_{t+1} $\n",
    "\n",
    "### __Retornos logarítmicos__\n",
    "\n",
    "$rlog_{t+1} =ln(\\frac{P_{t+1}}{P_t})= ln(P_{t+1}) - ln(P_{t})  =ln(R_{t+1}) = ln(1+ r_{t+1})$\n",
    "\n",
    "* $rlog$: retorno logarítmico \n",
    "\n",
    "Para transformar em retorno bruto, basta fazer a seguinte conta:\n",
    "\n",
    "$R_{t+1}= exp({rlog}_{t+1})$\n",
    "\n",
    "Para transformar em retorno aritmético, basta :\n",
    "\n",
    "$r_{t+1}= 1 - exp({rlog}_{t+1})$\n",
    "\n",
    "O retorno logarítmico acumulado é dado por:\n",
    "\n",
    "$Rlncum_{t+3} = exp({rlog}_{t+1} + {rlog}_{t+2}+ {rlog}_{t+3}) = exp(rlog_{t+1})+ exp(rlog_{t+2})+ exp(rlog_{t+3})$\n",
    "\n",
    "obs4: Retornos logarítmicos não se agregam entre ativos\n",
    "\n",
    "$r^{p}_{t+1} = ln(0.5exp({rlog}^{A}_{t+1}) + 0.5exp({rlog}^{B}_{t+1})) $\n",
    "\n",
    "\n"
   ]
  },
  {
   "cell_type": "markdown",
   "metadata": {},
   "source": [
    "### __a)__ Calcule o retorno total (entre o valor final e o valor do começo), pelo formato discreto (simples) e logarítmico de uma ação de sua escolha\n",
    "Recomenda-se ser a mesma ação da questão anterior"
   ]
  },
  {
   "cell_type": "code",
   "execution_count": null,
   "metadata": {},
   "outputs": [],
   "source": []
  },
  {
   "attachments": {},
   "cell_type": "markdown",
   "metadata": {},
   "source": [
    "### __b)__ Calcule o retorno diário ao longo de todo o período, pelo formato discreto (simples) e logarítmico da mesma ação"
   ]
  },
  {
   "cell_type": "code",
   "execution_count": null,
   "metadata": {},
   "outputs": [],
   "source": []
  },
  {
   "attachments": {},
   "cell_type": "markdown",
   "metadata": {},
   "source": [
    "### __c)__ Faça um gráfico de série de log-retornos"
   ]
  },
  {
   "cell_type": "code",
   "execution_count": null,
   "metadata": {},
   "outputs": [],
   "source": []
  },
  {
   "cell_type": "markdown",
   "metadata": {},
   "source": [
    "### __d)__ Faça um gráfico dos retornos acumulados dia-a-dia (para cada dia n, calcule o acumulado do dia 1 ao n). Compare com a série temporal do preço de fechamento ajustado da mesma ação. Qual sua interpretação?"
   ]
  },
  {
   "cell_type": "code",
   "execution_count": null,
   "metadata": {},
   "outputs": [],
   "source": []
  },
  {
   "attachments": {},
   "cell_type": "markdown",
   "metadata": {},
   "source": [
    "## 4) Volatilidade\n",
    "\n",
    "<img src='https://d1yhils6iwh5l5.cloudfront.net/charts/resized/81610/large/Monkey_Poo.png' width='400'>\n",
    "\n",
    "<p align='center'>\n",
    "\"Volatilidade é risco, mas não é todo o risco\" (escutei ou li em algum lugar)\n",
    "</p>\n",
    "\n",
    "Uma das mais tradicionais, e simplistas, formas de se representar o risco em finanças é pelo desvio padrão dos retornos, chamada também de _Close-to-close volatility_ ou _historical Volatility_:\n",
    "\n",
    "$\\sigma =  \\sqrt{\\frac{\\sum{}^N_{i}(r_{i} - \\bar{r})²}{N-1}} $\n",
    "\n",
    "Anualizando a fórmula:\n",
    "\n",
    "$\\sigma_{a}=\\sigma_{d} * \\sqrt{252} $\n",
    "\n",
    "\n",
    "Há alternativas para se mensurar a volatilidade, são elas\n",
    "* _Desvio padrão móvel_ ou _Desvio padrão corrido_\n",
    "* _Média Móvel Simples (Simple Moving Average - SMA)_\n",
    "* _Média Móvel Poderada Exponêncial (Exponentially Weighted Moving Average - EWMA)_\n",
    "* _Semi-desvio (Semi deviation)_: volatilidade de uma subamostra de retornos negativos\n",
    "* Outras medidas mais complexas como:\n",
    "    * Parkinson Volatility\n",
    "    * Garman Klass Volatility\n",
    "    * Rogers-Satchell Volatility\n",
    "    * Yang Zhang Volatility\n",
    "\n",
    "Outras fontes:\n",
    "\n",
    "* https://www.ivolatility.com/help/6.html#sma\n",
    "* https://portfolioslab.com/tools"
   ]
  },
  {
   "attachments": {
    "image.png": {
     "image/png": "[encoded data removed]"
    }
   },
   "cell_type": "markdown",
   "metadata": {},
   "source": [
    "![image.png](attachment:image.png)"
   ]
  },
  {
   "attachments": {
    "image.png": {
     "image/png": "[encoded data removed]"
    }
   },
   "cell_type": "markdown",
   "metadata": {},
   "source": [
    "![image.png](attachment:image.png)"
   ]
  },
  {
   "cell_type": "markdown",
   "metadata": {},
   "source": [
    "### __a)__ Calcule a volatilidade nas formas: histórica (retornos diários), histórica anualizada, desvio padrão móvel, SMA e EWMA; de uma ação de sua escolha (pode ser a mesma da questão anterior). Explique como esses índices explicam a volatilidade das ações."
   ]
  },
  {
   "cell_type": "code",
   "execution_count": null,
   "metadata": {},
   "outputs": [],
   "source": []
  },
  {
   "attachments": {},
   "cell_type": "markdown",
   "metadata": {},
   "source": [
    "### __Desafio__: escolha uma das formas mais \"complexas\" e calcule a volatilidade\n",
    "dica: cole o link de uma imagem da fórmula aqui"
   ]
  },
  {
   "cell_type": "code",
   "execution_count": null,
   "metadata": {},
   "outputs": [],
   "source": []
  },
  {
   "attachments": {},
   "cell_type": "markdown",
   "metadata": {},
   "source": [
    "----"
   ]
  },
  {
   "attachments": {},
   "cell_type": "markdown",
   "metadata": {},
   "source": [
    "## 5) Estatísticas\n",
    "\n",
    "<img src = \"https://www.meme-arsenal.com/memes/e67609cded2cb9c7f9f120ffc8a0e5ea.jpg\" >\n",
    "\n",
    "<p align='center'>\n",
    "    \"As estatísticas corretas nos deixam sempre uma falsa impressão\" - Stanislaw Ponte Preta, pseudônimo do Jornalista Sérgio Porto (1923-1968)\n",
    "</p>\n",
    "\n",
    "<p align='center'>    \n",
    "    \"Usa-se a estatística como um homem bêbado usa um poste, mais para apoiar que para iluminar\" - Andrew Lang (1844-1912)\n",
    "</p>\n",
    "\n",
    "<p align='center'>    \n",
    "    \"I can prove anything by statistics except the truth.\" - George Canning\n",
    "</p>\n",
    "\n",
    "\n",
    "\n",
    "\n",
    "\n",
    "Estatística é uma área extremamente ampla, cujas ferramentas são primordiais para as Finanças ao embasarem diversas teorias, conceitos e fórmulas. O conceito de __distribuição normal__ e desvios da normalidade, como __skewness__ e __kurtosis__, por exemplo, são aplicados aos retornos de investimentos e baseiam diversas teorias como: \n",
    "\n",
    "* Teoria das Carteiras \n",
    "* Modelo de precificação dos ativos (Capital Asset Pricing Model - CAPM)\n",
    "* Hipótese dos Mercados Eficientes (Efficient Market Hypotesis - EMH)\n",
    "* Precificação de Opções\n",
    "\n",
    "Além disso, modelos estatísticos mais avançados são a base do Aprendizado de Máquinas (ou Aprendizado Estatístico), o qual encontra cada vez mais espaço nas finanças e possibilita estratégias de investimentos sistemáticos. Encontraremos alguns de suas apliações nos próximos desafios, por agora iremos focar em testar a normalidade dos retornos. \n",
    "\n",
    "obs: recomendamos utilizarem os pacotes  __statsmodels.api__ e __scipy.stats__ "
   ]
  },
  {
   "attachments": {},
   "cell_type": "markdown",
   "metadata": {},
   "source": [
    "### __a)__ Uma forma de checarmos graficamente se os retornos seguem uma distribuição normal é fazendo o histograma dos log-retornos. Para as ações da Vale, do Itaú, da Klabin e da Minerva, faça um histograma \n",
    "\n",
    "\n",
    "Dica: utilize a função do matplotlib da seguinte maneira __plt.hist(log_returns.flatten(), bins=70, normed=True, label='frequency', color='b')__"
   ]
  },
  {
   "cell_type": "code",
   "execution_count": null,
   "metadata": {},
   "outputs": [],
   "source": []
  },
  {
   "attachments": {},
   "cell_type": "markdown",
   "metadata": {},
   "source": [
    "### __b)__ Outro teste gráfico é o Quantile-Quantile plots, ou QQ-plots. Procure saber sobre sua explicação. Escolha uma ação e faça uma \"Plotagem\""
   ]
  },
  {
   "cell_type": "code",
   "execution_count": null,
   "metadata": {},
   "outputs": [],
   "source": []
  },
  {
   "attachments": {},
   "cell_type": "markdown",
   "metadata": {},
   "source": [
    "### __c)__ Visualizações gráficas não são suficientes. Calcule um conjunto de estatísticas (recomendo fazer/usar uma função), contendo o tamanho da amostra, mínimo, máximo, média, desvio padrão, skew e kurtosis; para duas ações de sua escolha. Compare os valores"
   ]
  },
  {
   "cell_type": "code",
   "execution_count": null,
   "metadata": {},
   "outputs": [],
   "source": []
  },
  {
   "attachments": {},
   "cell_type": "markdown",
   "metadata": {},
   "source": [
    "### __d)__ Faça testes estatísticos de signficância estatística para as ações que escolheu anteriormente. Eles podem ser obtidos pelas funções do scipy.stats:\n",
    "\n",
    "* skewtest()\n",
    "* kurtosistest()\n",
    "* normaltest()\n",
    "\n",
    "_Skewness is a measure of symmetry, or more precisely, the lack of symmetry. A distribution, or data set, is symmetric if it looks the same to the left and right of the center point._\n",
    "\n",
    "_Kurtosis is a measure of whether the data are heavy-tailed or light-tailed relative to a normal distribution. That is, data sets with high kurtosis tend to have heavy tails, or outliers. Data sets with low kurtosis tend to have light tails, or lack of outliers. A uniform distribution would be the extreme case._\n",
    "\n",
    "obs: usualmente, usa-se um intervalo de confiança de 95% para a significância estatística; assim, os retornos __não__ são normalmente distribuídos caso o valor-p for abaixo de 0.05.\n",
    "\n",
    "\n",
    "Responda, então, se os retornos das ações escolhidas são normalmente distribuídos."
   ]
  },
  {
   "cell_type": "code",
   "execution_count": null,
   "metadata": {},
   "outputs": [],
   "source": []
  },
  {
   "cell_type": "markdown",
   "metadata": {},
   "source": [
    "### **Desafio:** Para essas duas ações, faça um gráfico de dispersão dos retornos logarítmicos das ações e uma regressão linear (por mínimos quadrados). Existe correlação? A regressão é válida, ou seja, ele respeita as _Hipóteses de Gauss-Markov_? Faça mais testes se achar necessário."
   ]
  },
  {
   "cell_type": "code",
   "execution_count": null,
   "metadata": {},
   "outputs": [],
   "source": []
  },
  {
   "attachments": {},
   "cell_type": "markdown",
   "metadata": {},
   "source": [
    "----"
   ]
  },
  {
   "attachments": {},
   "cell_type": "markdown",
   "metadata": {},
   "source": [
    "## 6) Portfólio de investimento\n",
    "\n",
    "<img src='https://static.seekingalpha.com/uploads/2016/4/21/4000711-14612382991995537_origin.png' width='400'>\n",
    "\n",
    "### Métricas de desempenho de uma carteira de investimentos\n",
    "\n",
    "__Retorno__:  \n",
    "\n",
    "No tópico 2, já vimos como calcular o retorno de um portfólio com dois  ativos. Segue a generalização:\n",
    "\n",
    "$R_p = R_{a1}w_{a1} + R_{a2}w_{a2} + R_{a3}w_{a3} + ...+ R_{an}w_{an}$\n",
    "\n",
    "* $R_p$: retorno do portfólio\n",
    "* $R_{an}$: retorno do ativo \"n\"\n",
    "* $w_{an}$ : peso do ativo \"n\"\n",
    "\n",
    "Uma maneira mais eficiente de generalizá-la é através da fórmula matricial, dada por: \n",
    "$R_p = \\vec{r} \\times \\vec{w}$\n",
    "\n",
    "* $\\vec{r}$ : vetor contendo o retorno dos ativos\n",
    "* $\\vec{w}$ : vetor contendo o peso dos ativos na carteira\n",
    "\n",
    "obs: a soma dos pesos precisa ser igual a 1, por hora, assuma que os pesos não podem ser negativos (não estaremos vendidos em nenhuma ação, apenas comprados)\n",
    " \n",
    "\n",
    "__Volatilidade__:\n",
    "\n",
    "Contraintuitivamente, a volatilidade de um portfólio não é calculada a partir do desvio padrão de seus retornos. Sua fórmula (matricial) é a seguinte:\n",
    "\n",
    "$\\sigma_{P} = \\sqrt{w_{T} \\cdot \\Sigma{}  \\cdot w}$\n",
    "\n",
    "\n",
    "* $\\sigma_{P}$ : volatilidade do portfólio\n",
    "* $\\Sigma$ : matriz de covariância dos retornos\n",
    "* $w$: pesos dos ativos\n",
    "* $w_{T}$: peso dos ativos transpostos\n",
    "\n",
    "### Você deverá montar um portfólio com 10 ações. Como você já sabe importar dados financeiros, fique livre para escolher os ativos/ações de seu preferência, designando os pesos para cada um dos ativos ou optand"
   ]
  },
  {
   "attachments": {},
   "cell_type": "markdown",
   "metadata": {},
   "source": [
    "### __a)__ Calcule o retorno anualizado do portfólio"
   ]
  },
  {
   "cell_type": "code",
   "execution_count": null,
   "metadata": {},
   "outputs": [],
   "source": []
  },
  {
   "attachments": {},
   "cell_type": "markdown",
   "metadata": {},
   "source": [
    "### __b)__ Calcule a volatilidade anualizada do portfólio"
   ]
  },
  {
   "cell_type": "code",
   "execution_count": null,
   "metadata": {},
   "outputs": [],
   "source": []
  },
  {
   "attachments": {},
   "cell_type": "markdown",
   "metadata": {},
   "source": [
    "### __c)__ Calcule os retornos diários do portfólio, calcule seu retorno acumulativo e compare com algum Benchmark (CDI, IBOVESPA, IBrX)"
   ]
  },
  {
   "cell_type": "code",
   "execution_count": null,
   "metadata": {},
   "outputs": [],
   "source": []
  },
  {
   "attachments": {},
   "cell_type": "markdown",
   "metadata": {},
   "source": [
    "### __d)__ Provavelmente já deve ter se deparado com o conceito de correlação em estatística. Faça a matriz de correlação (método de person) para os ativos do portfólio que montou. Com o intuito de aumentar a elegância, faça um heatmap dessa matriz. Por fim, reflita o que a correlação entre os ativos pode dizer sobre seu portfólio. \n",
    "Para ajudar na sua reflexão fique com a frase de Harry Markowitz: “Tratando-se de finanças, diversificação é o único almoço grátis”"
   ]
  },
  {
   "cell_type": "code",
   "execution_count": null,
   "metadata": {},
   "outputs": [],
   "source": []
  },
  {
   "attachments": {},
   "cell_type": "markdown",
   "metadata": {},
   "source": [
    "### Teoria moderna das carteiras (Modern Portfolio Theory - MPT)\n",
    "\n",
    "__Pressupostos__:\n",
    "\n",
    "* Não é possível estar vendido em uma ação (short)\n",
    "* 100% da riqueza do invstidor necessita estar depositada (soma dos pesos igual a 1)\n",
    "* _Trade-off_ entre risco e retorno: maior incerteza (risco) é compensada com maior recompensa (retorno)\n",
    "* Retorno Esperado no futuro: média do retorno histórico (conceito de esperança matemática) \n",
    "\n",
    "__Explicação básica__:\n",
    "\n",
    "* Podemos compor diversos portfólios diferentes ao alterarmos o peso dado aos ativos\n",
    "* Diferentes pesos resultam em diferentes pares (risco, retorno)\n",
    "    * Mudar os pesos = ajustar a exposição do investidor ao risco  \n",
    "* O desafio é: encontrar uma combinação de pesos para maximizar o retorno, dado um nível de risco\n",
    "    *  Tal combinação resulta em um __portfólio eficiente__\n",
    "* A região do gráfico (retorno esperado, vol) onde se encontram os portfólios eficientes é chamada de fronteira eficiente\n"
   ]
  },
  {
   "cell_type": "markdown",
   "metadata": {},
   "source": [
    "### __e)__ Reflita sobre os problemas e limitações da teoria de Markowitz (pesquise à vontade)."
   ]
  },
  {
   "cell_type": "code",
   "execution_count": null,
   "metadata": {},
   "outputs": [],
   "source": []
  },
  {
   "attachments": {},
   "cell_type": "markdown",
   "metadata": {},
   "source": [
    "### __Desafio:__ Plote um gráfico contendo a relação risco x retorno de diversos portfólios possíveis. Evidencie a Fronteira eficiente"
   ]
  },
  {
   "cell_type": "code",
   "execution_count": null,
   "metadata": {},
   "outputs": [],
   "source": []
  },
  {
   "cell_type": "markdown",
   "metadata": {},
   "source": [
    "----"
   ]
  },
  {
   "cell_type": "markdown",
   "metadata": {},
   "source": [
    "# __Parte 2__"
   ]
  },
  {
   "attachments": {},
   "cell_type": "markdown",
   "metadata": {},
   "source": [
    "## 7) Gestão de Risco\n",
    "\n",
    "<p align='center'>\n",
    "<img src='https://encrypted-tbn0.gstatic.com/images?q=tbn:ANd9GcQXeGqqZmj4jzVfn5vGL7MntSwQ0AMt1rtpVg&usqp=CAU' width=\"200\">\n",
    "</p>\n",
    "\n",
    "<p align='center'>\n",
    "\"Um navio no porto está em segurança, mas não é para isso que os navios são feitos\" - John Sheed\n",
    "</p>\n",
    "\n",
    "<p align='center'>\n",
    "\"O pior risco é não correr risco nenhum\" - Nicolas Sarcozy\n",
    "</p>\n",
    "\n",
    "<p align='center'>\n",
    "\"Há duas ocasiões na vida em que uma pessoa não deve jogar: quando não tiver posse para isso ... e quando tiver\" - Mark Twain\n",
    "</p>"
   ]
  },
  {
   "attachments": {},
   "cell_type": "markdown",
   "metadata": {},
   "source": [
    "Como você já deve saber, risco em finanças emerge da incerteza de futuros lucros ou retornos. A Gestão de risco financeiro moderna é algo extremamente objetivo. Por mais que sejam utilizados ferramentais matemáticos e estatísticos (tomando um caráter científico), modelos de risco sempre estão sujeitos a serem aplicados incorretamente, a terem pressupostos errados ou a empresentarem resultados ruins. Nessa etapa você aplicará algumas dessas ferramentas mais básicas .\n",
    "\n",
    "\n",
    "\n"
   ]
  },
  {
   "attachments": {},
   "cell_type": "markdown",
   "metadata": {},
   "source": [
    "### DRAWDOWN\n",
    "\n",
    "Para melhor avaliar o desempenho de um portfólio, é necessário calcular o Drawdown Histórico. Sua fórmula é dada por:\n",
    "\n",
    "$DD = \\frac{r_t}{RM}-1$\n",
    "\n",
    "sendo:\n",
    "*  $r_t$ o retorno acumulado até o momento t e RM o máximo até o momento\n",
    "\n",
    "O objetivo de toda estratégia de investimentos é apresentar o menor Drawdown histórico possível. Você deverá  analisar o Drawdown histórico da carteira que você montou na última etapa (suponha desembolsou R$100.000,00 nessa estratégia). Para isso, plote um gráfico que informe sobre essa medida de risco e responda:\n",
    "\n",
    "* a-) Qual foi o patrimônio mínimo\n",
    "* b-) Qual foi a maior queda do patrimônio em R$\n",
    "* c-) Qual foi a maior queda percentual do patrimônio\n",
    "* d-) A data da maior queda\n",
    "* e-) A maior duração do Drawdown"
   ]
  },
  {
   "attachments": {},
   "cell_type": "markdown",
   "metadata": {},
   "source": [
    "### Value at Risk (VaR)\n",
    "\n",
    "Outra forma para medir o rico de perda é a ferramente chamada de Value at Risk (VaR). Há diversos tipos de VaR, mas seu princípio é representar, em um número, o risco de um produto financeiro ou de uma carteira relacionado a sua __perda potencial máxima__ para um __dado horizonte__ e com um __intervalo de confiança__ (normalmente 95%, 97,5%, 99%, 99.9%), ou seja, é o risco de enventos extremos na distribuição de perdas (retornos negativos)."
   ]
  },
  {
   "attachments": {},
   "cell_type": "markdown",
   "metadata": {},
   "source": [
    "### __a)__ Calcule o VaR histórico do portfólio montado na etapa 5. Considere os intervalos de confiança 95%, 97,5%, 99%, 99.9%"
   ]
  },
  {
   "cell_type": "code",
   "execution_count": null,
   "metadata": {},
   "outputs": [],
   "source": []
  },
  {
   "attachments": {},
   "cell_type": "markdown",
   "metadata": {},
   "source": [
    "### __b)__ Faça um histograma da distribuição dos retornos, indicando a linha vertical que delimita o var VaR como\n",
    "\n",
    "obs: também podemos fazer o grafíco contendo a distribuição das perdas (oposto do retorno), ou seja :\n",
    "\n",
    "$L = - R$ "
   ]
  },
  {
   "cell_type": "code",
   "execution_count": null,
   "metadata": {},
   "outputs": [],
   "source": []
  },
  {
   "attachments": {},
   "cell_type": "markdown",
   "metadata": {},
   "source": [
    "### CVaR:\n",
    "\n",
    "O Conditional Value at Risk é variação do VaR, porém ele procura mensurar a perda esperada nos piores 1-x% cenários. Em outras palavras, um CVaR(95), por exemplo, busca responder o quanto excederiam as perdas __em média__ nos 5% piores casos. \n",
    "\n",
    "Estatísticamente, ele é a esperança matemática da cauda da distribuição de perdas\n",
    "\n",
    "$CVaR(\\alpha) := \\frac{1}{1-\\alpha} \\mathbb{E} \\int_{VaR(\\alpha)}^{\\bar{x}} xf(x)dx$\n",
    "\n",
    "sendo: \n",
    "\n",
    "* $f(.)$ : função densidade de probabilidade (probability density function - pdf)\n",
    "* $\\bar{x}$: limite superior (pode ser infinito)\n",
    "* $VaR(\\alpha)$ : VaR em um intervalo de confiança de $\\alpha$\n",
    "\n",
    "\n",
    "<img src ='https://www.researchgate.net/publication/321925061/figure/fig1/AS:573442517934080@1513730758570/represents-the-CVaR-in-terms-of-costs.png'>\n"
   ]
  },
  {
   "attachments": {},
   "cell_type": "markdown",
   "metadata": {},
   "source": [
    "### __c)__ Compute o o CVaR histórico (não é necessário modelar os retornos como uma distribuição normal) nos 5% piores casos. \n",
    "\n"
   ]
  },
  {
   "cell_type": "code",
   "execution_count": null,
   "metadata": {},
   "outputs": [],
   "source": []
  },
  {
   "cell_type": "markdown",
   "metadata": {},
   "source": [
    "### VaR Paramétrico e não Paramétrico\n",
    "\n",
    "* \"VaR Paramétrico baseia-se no conhecimento prévio de uma distribuição estatística (Ex.: Curva Normal) para fazer o cálculo das perdas financeiras com base em hipótese de comportamento da distribuição de probabilidades dos retornos dos ativos. \"\n",
    "\n",
    "* \"O VaR Não Paramétrico não faz hipótese alguma sobre a distribuição de probabilidade dos retornos dos ativos. Nestas técnicas (Ex.: Simulação Histórica, Simulação de Monte Carlo) são utilizadas a história dos próprios retornos para obtenção de informações sobre as perdas financeiras\"\n",
    "\n",
    "fonte :\n",
    "[Value at Risk - wikipedia (link)](https://pt.wikipedia.org/wiki/Value_at_Risk)\n",
    "\n",
    "Nessa etapa não haverá exercícios, repare até agora você só calculou medidas paramétricas, já que não fora exigido que se modelasse a série de perdas (assumindo uma distribuição específica). \n",
    "\n",
    "### __d)__ Realize as versões paramétricas para o VaR e o CVaR, assumindo uma distribuição normal.\n",
    "\n",
    "Dica:\n",
    "```{python} \n",
    "from scipy.stats import norm \n",
    "```"
   ]
  },
  {
   "cell_type": "code",
   "execution_count": null,
   "metadata": {},
   "outputs": [],
   "source": []
  },
  {
   "attachments": {},
   "cell_type": "markdown",
   "metadata": {},
   "source": [
    "----"
   ]
  },
  {
   "cell_type": "markdown",
   "metadata": {},
   "source": [
    "## 8) Processos estocáticos  \n",
    "\n",
    "\n",
    "<img src='http://media3.giphy.com/media/YPBvdXHxANHHi/giphy.gif' width=\"300\">\n",
    "\n",
    "\n",
    "<p align='center'>\n",
    "\"Predictability is not how things will go, but how they can go\"- Raheel Farooq\n",
    "</p>\n",
    "\n",
    "\n",
    "<p align='center'>\n",
    "\"A fortuna troca, às vezes, os cálculos da natureza\" - Machado de Assis (1839-1908)\n",
    "</p>\n",
    "\n",
    "\n",
    "### Introdução\n",
    "\n",
    "Um processo estocástico, a grosso modo, é uma sequência de variáveis aleatórias. A palavra estocástica significa probabilística, oposta à Ao palavra determinística em que por meio de uma equação é possível saber o resultado exato (pense numa equação y = ax + b, caso conhecermos todos os parâmetros, a partir de uma observação de x poderemos __determinar__ o y).\n",
    "\n",
    "Caso queira saber mais (não será necessário para resolver o exercício), acesse os links:\n",
    "\n",
    "* [Cadeias de Markov: Caminhadas aleatórias (Teoria e Simulação) - Aula 3](https://www.youtube.com/watch?v=cwhQYqR_Iag&list=PLSc7xcwCGNh0jSylDm0QrDJaFTC3vAbvc&index=5) \n",
    "* [O que são processos estocásticos?](https://www.youtube.com/watch?v=WOWi6dswgkY&list=PLSc7xcwCGNh0jSylDm0QrDJaFTC3vAbvc&index=1)\n",
    "* [Introdução ao método de Monte Carlo](https://www.interviewqs.com/blog/intro-monte-carlo) <-- recomendado!\n",
    "\n",
    "Dentro desse assunto temos o conceito de \"passeios aleatórios\", que são objetos matemáticos cujos caminhos consistem em, como o próprio nome sugere, uma sucessão de movimentos aleatórios, podendo representar o deslocamento de uma molécula em um gás, processos de difusão de partículas, o andar de um bêbado, ou o comportamento de ativos no mercado financeiro, já que eles sofrem diversas influências externas, fazendo seu movimento ser entendido como aleatório (tornando-os difíceis de serem previstos).\n",
    "\n",
    "### __a)__ Gere uma série de retornos \"previstos\" por uma caminhada aleatória "
   ]
  },
  {
   "cell_type": "code",
   "execution_count": null,
   "metadata": {},
   "outputs": [],
   "source": []
  },
  {
   "cell_type": "markdown",
   "metadata": {},
   "source": [
    "### __Desafio:__ Pesquise e explique a diferença entre os modelos de Monte Carlo, Binomial e Black-Scholes."
   ]
  },
  {
   "cell_type": "code",
   "execution_count": null,
   "metadata": {},
   "outputs": [],
   "source": []
  },
  {
   "cell_type": "markdown",
   "metadata": {},
   "source": [
    "----"
   ]
  },
  {
   "cell_type": "markdown",
   "metadata": {},
   "source": [
    "## 9) Algotrading\n",
    "\n",
    "<img src='https://miro.medium.com/v2/resize:fit:10944/1*rK4BReVRtUrEuvYbgthclw.jpeg' width='400'>\n",
    "\n",
    "<div style=\"font-style: italic; text-align: center;\" markdown=\"1\">\n",
    "People worry that computers will get too smart and take over the world, but the real problem is that they’re too stupid and they’ve already taken over the world - Pedro Domingos \n",
    "\n",
    "</div>\n",
    "\n",
    "Uma das áreas que podemos seguir dentro do grupo de finanças quantitativas é a elaboração de algoritmos (procedimentos feitos pelo computador) que realizem estratégias de trading cuja performance for previamente avaliada por backtests. \n",
    "\n",
    "Uma ideia extremamente simples (e ingênua) é desenvolver estratégias de trading baseadas no cruzamento de médias móveis (simples) dos preços dos ativos (sendo uma delas uma média móvel curta e outra longa). Com o intuito de treinar o raciocínio para esse assunto, você irá implementar a seguinte estratégia:\n",
    "\n",
    "\n",
    "\n",
    "* \"Quando a média móvel curta estiver maior que a média móvel longa, deve-se permanecer comprado. Quando ocorrer o contrário, deve-se permanecer vendido\"\n",
    "\n",
    "\n",
    "\n",
    "Leia o segundo tópico (__\"Strategies Based on Simple Moving Averages\"__) do livro (__Python for Algorithmic Trading - From Idea to Cloud Deployment__, de Yves Hilpisch)"
   ]
  },
  {
   "cell_type": "markdown",
   "metadata": {},
   "source": [
    "### __a)__ Nesse exercício, adote a média móvel curta com 42 dias e a longa com 252. Faça o backtest em uma ação de sua escolha, com início em 1/01/2015 até 31/12/2020. Faça gráficos para ilustrar a estratégia"
   ]
  },
  {
   "cell_type": "code",
   "execution_count": null,
   "metadata": {},
   "outputs": [],
   "source": []
  },
  {
   "cell_type": "markdown",
   "metadata": {},
   "source": [
    "#### Em suma, para desenvolvermos uma estratégia, devemos criar uma regra, que será identificada como um sinal (comprado ou vendido). Para calcular seu retorno histórico, multiplicamos o sinal por o retorno do ativo em questão.  Percorremos esse assunto de forma bem simplificada, há vieses que precisamos nos atentar, sempre temos melhores métodos de se fazer um backtest, podemos utilizar ferramentais estatísticos para comprovar um \"alfa\", além de que devemos nos atentar que  a execução de uma estratégia talvez não seja viável (produtos disponíveis na corretora, capacidade de executar uma ordem de compra ou venda, liquidez, \"caixa disponível\", custos de transação, etc.)"
   ]
  },
  {
   "cell_type": "markdown",
   "metadata": {},
   "source": [
    "### __b)__ Sua vez! Primeiro, escolha qualquer ação, título ou moeda fora da B3, e pesquise como importar esses dados. Então, crie ou pesquise uma estratégia diferente. Fique à vontade para pesquisar diferentes fontes e testar estratégias diferentes. Quais resultados você obteve?"
   ]
  },
  {
   "cell_type": "code",
   "execution_count": null,
   "metadata": {},
   "outputs": [],
   "source": []
  }
 ],
 "metadata": {
  "interpreter": {
   "hash": "4b41f1d7901c245d236e028006d52e8373fd7c96b9ffb251bc24e32ccdfcdcfe"
  },
  "kernelspec": {
   "display_name": "Python 3.8.5 64-bit ('base': conda)",
   "name": "python3"
  },
  "language_info": {
   "codemirror_mode": {
    "name": "ipython",
    "version": 3
   },
   "file_extension": ".py",
   "mimetype": "text/x-python",
   "name": "python",
   "nbconvert_exporter": "python",
   "pygments_lexer": "ipython3",
   "version": "3.10.11"
  },
  "orig_nbformat": 4
 },
 "nbformat": 4,
 "nbformat_minor": 2
}
